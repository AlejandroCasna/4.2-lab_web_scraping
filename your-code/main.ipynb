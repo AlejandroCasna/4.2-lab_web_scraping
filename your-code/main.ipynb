{
 "cells": [
  {
   "cell_type": "markdown",
   "metadata": {},
   "source": [
    "# Web Scraping Lab\n",
    "\n",
    "You will find in this notebook some scrapy exercises to practise your scraping skills.\n",
    "\n",
    "**Tips:**\n",
    "\n",
    "- Check the response status code for each request to ensure you have obtained the intended contennt.\n",
    "- Print the response text in each request to understand the kind of info you are getting and its format.\n",
    "- Check for patterns in the response text to extract the data/info requested in each question.\n",
    "- Visit each url and take a look at its source through Chrome DevTools. You'll need to identify the html tags, special class names etc. used for the html content you are expected to extract."
   ]
  },
  {
   "cell_type": "markdown",
   "metadata": {},
   "source": [
    "- [Requests library](http://docs.python-requests.org/en/master/#the-user-guide) documentation \n",
    "- [Beautiful Soup Doc](https://www.crummy.com/software/BeautifulSoup/bs4/doc/)\n",
    "- [Urllib](https://docs.python.org/3/library/urllib.html#module-urllib)\n",
    "- [re lib](https://docs.python.org/3/library/re.html)\n",
    "- [lxml lib](https://lxml.de/)\n",
    "- [Scrapy](https://scrapy.org/)\n",
    "- [List of HTTP status codes](https://en.wikipedia.org/wiki/List_of_HTTP_status_codes)\n",
    "- [HTML basics](http://www.simplehtmlguide.com/cheatsheet.php)\n",
    "- [CSS basics](https://www.cssbasics.com/#page_start)"
   ]
  },
  {
   "cell_type": "markdown",
   "metadata": {},
   "source": [
    "#### Below are the libraries and modules you may need. `requests`,  `BeautifulSoup` and `pandas` are imported for you. If you prefer to use additional libraries feel free to uncomment them."
   ]
  },
  {
   "cell_type": "code",
   "execution_count": 601,
   "metadata": {},
   "outputs": [],
   "source": [
    "import requests as req\n",
    "from bs4 import BeautifulSoup as bs\n",
    "import pandas as pd\n",
    "import re\n"
   ]
  },
  {
   "cell_type": "markdown",
   "metadata": {},
   "source": [
    "#### Download, parse (using BeautifulSoup), and print the content from the Trending Developers page from GitHub:"
   ]
  },
  {
   "cell_type": "code",
   "execution_count": 722,
   "metadata": {},
   "outputs": [],
   "source": [
    "# This is the url you will scrape in this exercise\n",
    "url = 'https://github.com/trending/developers'"
   ]
  },
  {
   "cell_type": "code",
   "execution_count": 750,
   "metadata": {},
   "outputs": [
    {
     "data": {
      "text/plain": [
       "[['Ismail', 'Pelaseyed'],\n",
       " ['Alex', 'Stokes'],\n",
       " ['Don', 'Jayamanne'],\n",
       " ['Stefan', 'Prodan']]"
      ]
     },
     "execution_count": 750,
     "metadata": {},
     "output_type": "execute_result"
    }
   ],
   "source": [
    "#your code\n",
    "html = req.get(url).text\n",
    "sop = bs(html, 'html.parser')\n",
    "resultado=sop.find_all('h1')\n",
    "lista= []\n",
    "for i in resultado[4::2]:\n",
    "    lista.append(i.text.split())\n",
    "lista[:4]"
   ]
  },
  {
   "cell_type": "markdown",
   "metadata": {},
   "source": [
    "#### Display the names of the trending developers retrieved in the previous step.\n",
    "\n",
    "Your output should be a Python list of developer names. Each name should not contain any html tag.\n",
    "\n",
    "**Instructions:**\n",
    "\n",
    "1. Find out the html tag and class names used for the developer names. You can achieve this using Chrome DevTools.\n",
    "\n",
    "1. Use BeautifulSoup to extract all the html elements that contain the developer names.\n",
    "\n",
    "1. Use string manipulation techniques to replace whitespaces and linebreaks (i.e. `\\n`) in the *text* of each html element. Use a list to store the clean names.\n",
    "\n",
    "1. Print the list of names.\n",
    "\n",
    "Your output should look like below:\n",
    "\n",
    "```\n",
    "['trimstray (@trimstray)',\n",
    " 'joewalnes (JoeWalnes)',\n",
    " 'charlax (Charles-AxelDein)',\n",
    " 'ForrestKnight (ForrestKnight)',\n",
    " 'revery-ui (revery-ui)',\n",
    " 'alibaba (Alibaba)',\n",
    " 'Microsoft (Microsoft)',\n",
    " 'github (GitHub)',\n",
    " 'facebook (Facebook)',\n",
    " 'boazsegev (Bo)',\n",
    " 'google (Google)',\n",
    " 'cloudfetch',\n",
    " 'sindresorhus (SindreSorhus)',\n",
    " 'tensorflow',\n",
    " 'apache (TheApacheSoftwareFoundation)',\n",
    " 'DevonCrawford (DevonCrawford)',\n",
    " 'ARMmbed (ArmMbed)',\n",
    " 'vuejs (vuejs)',\n",
    " 'fastai (fast.ai)',\n",
    " 'QiShaoXuan (Qi)',\n",
    " 'joelparkerhenderson (JoelParkerHenderson)',\n",
    " 'torvalds (LinusTorvalds)',\n",
    " 'CyC2018',\n",
    " 'komeiji-satori (神楽坂覚々)',\n",
    " 'script-8']\n",
    " ```"
   ]
  },
  {
   "cell_type": "code",
   "execution_count": null,
   "metadata": {},
   "outputs": [],
   "source": [
    "#your code"
   ]
  },
  {
   "cell_type": "markdown",
   "metadata": {},
   "source": [
    "#### Display the trending Python repositories in GitHub\n",
    "\n",
    "The steps to solve this problem is similar to the previous one except that you need to find out the repository names instead of developer names."
   ]
  },
  {
   "cell_type": "code",
   "execution_count": 781,
   "metadata": {},
   "outputs": [],
   "source": [
    "# This is the url you will scrape in this exercise\n",
    "url = 'https://github.com/trending/python?since=daily'"
   ]
  },
  {
   "cell_type": "code",
   "execution_count": 793,
   "metadata": {},
   "outputs": [
    {
     "data": {
      "text/plain": [
       "[['THUDM', '/', 'ChatGLM3'],\n",
       " ['xxlong0', '/', 'Wonder3D'],\n",
       " ['public-apis', '/', 'public-apis'],\n",
       " ['donnemartin', '/', 'system-design-primer'],\n",
       " ['bregman-arie', '/', 'devops-exercises'],\n",
       " ['OpenBMB', '/', 'ChatDev'],\n",
       " ['reflex-dev', '/', 'reflex'],\n",
       " ['ageitgey', '/', 'face_recognition'],\n",
       " ['logspace-ai', '/', 'langflow'],\n",
       " ['CycodeLabs', '/', 'raven'],\n",
       " ['MIC-DKFZ', '/', 'nnUNet'],\n",
       " ['lllyasviel', '/', 'Fooocus'],\n",
       " ['THUDM', '/', 'CogVLM'],\n",
       " ['pchunduri6', '/', 'rag-demystified'],\n",
       " ['PaddlePaddle', '/', 'PaddleOCR'],\n",
       " ['serengil', '/', 'deepface'],\n",
       " ['ungoogled-software', '/', 'ungoogled-chromium'],\n",
       " ['python-poetry', '/', 'poetry'],\n",
       " ['django', '/', 'django'],\n",
       " ['dataelement', '/', 'bisheng'],\n",
       " ['litestar-org', '/', 'litestar'],\n",
       " ['openai', '/', 'whisper'],\n",
       " ['nasa-petal', '/', 'discord_bot'],\n",
       " ['huggingface', '/', 'autotrain-advanced'],\n",
       " ['deepset-ai', '/', 'haystack']]"
      ]
     },
     "execution_count": 793,
     "metadata": {},
     "output_type": "execute_result"
    }
   ],
   "source": [
    "#your code\n",
    "html = req.get(url).text\n",
    "sop = bs(html, 'html.parser')\n",
    "sop.find_all('h2', class_ =\"h3 lh-condensed\")[0].text.split()\n",
    "lista = []\n",
    "for i in sop.find_all('h2', class_ =\"h3 lh-condensed\"):\n",
    "    lista.append(i.text.split())\n",
    "lista    "
   ]
  },
  {
   "cell_type": "markdown",
   "metadata": {},
   "source": [
    "#### Display all the image links from Walt Disney wikipedia page"
   ]
  },
  {
   "cell_type": "code",
   "execution_count": 753,
   "metadata": {},
   "outputs": [],
   "source": [
    "# This is the url you will scrape in this exercise\n",
    "url = 'https://en.wikipedia.org/wiki/Walt_Disney'"
   ]
  },
  {
   "cell_type": "code",
   "execution_count": 772,
   "metadata": {},
   "outputs": [
    {
     "data": {
      "text/plain": [
       "'/static/images/icons/wikipedia.png'"
      ]
     },
     "execution_count": 772,
     "metadata": {},
     "output_type": "execute_result"
    }
   ],
   "source": [
    "resultado=sop.find_all('img')[0].attrs\n",
    "resultado['src']\n",
    "for i in sop.find_all('img'):\n",
    "    \n",
    "    "
   ]
  },
  {
   "cell_type": "code",
   "execution_count": 777,
   "metadata": {},
   "outputs": [
    {
     "name": "stdout",
     "output_type": "stream",
     "text": [
      "El valor de src es: /static/images/icons/wikipedia.png\n",
      "El valor de src es: /static/images/mobile/copyright/wikipedia-wordmark-en.svg\n",
      "El valor de src es: /static/images/mobile/copyright/wikipedia-tagline-en.svg\n",
      "El valor de src es: //upload.wikimedia.org/wikipedia/en/thumb/e/e7/Cscr-featured.svg/20px-Cscr-featured.svg.png\n",
      "El valor de src es: //upload.wikimedia.org/wikipedia/en/thumb/8/8c/Extended-protection-shackle.svg/20px-Extended-protection-shackle.svg.png\n",
      "El valor de src es: //upload.wikimedia.org/wikipedia/commons/thumb/d/df/Walt_Disney_1946.JPG/220px-Walt_Disney_1946.JPG\n",
      "El valor de src es: //upload.wikimedia.org/wikipedia/commons/thumb/8/87/Walt_Disney_1942_signature.svg/150px-Walt_Disney_1942_signature.svg.png\n",
      "El valor de src es: //upload.wikimedia.org/wikipedia/commons/thumb/3/3a/Walt_Disney_Birthplace_Exterior_Hermosa_Chicago_Illinois.jpg/220px-Walt_Disney_Birthplace_Exterior_Hermosa_Chicago_Illinois.jpg\n",
      "El valor de src es: //upload.wikimedia.org/wikipedia/commons/thumb/c/c4/Walt_Disney_envelope_ca._1921.jpg/220px-Walt_Disney_envelope_ca._1921.jpg\n",
      "El valor de src es: //upload.wikimedia.org/wikipedia/en/thumb/4/4e/Steamboat-willie.jpg/220px-Steamboat-willie.jpg\n",
      "El valor de src es: //upload.wikimedia.org/wikipedia/commons/thumb/c/cd/Walt_Disney_Snow_white_1937_trailer_screenshot_%2813%29.jpg/220px-Walt_Disney_Snow_white_1937_trailer_screenshot_%2813%29.jpg\n",
      "El valor de src es: //upload.wikimedia.org/wikipedia/commons/thumb/1/15/Disney_drawing_goofy.jpg/170px-Disney_drawing_goofy.jpg\n",
      "El valor de src es: //upload.wikimedia.org/wikipedia/commons/thumb/8/8c/WaltDisneyplansDisneylandDec1954.jpg/220px-WaltDisneyplansDisneylandDec1954.jpg\n",
      "El valor de src es: //upload.wikimedia.org/wikipedia/commons/thumb/f/ff/Walt_disney_portrait_right.jpg/170px-Walt_disney_portrait_right.jpg\n",
      "El valor de src es: //upload.wikimedia.org/wikipedia/commons/thumb/1/1a/Walt_Disney_Grave.JPG/170px-Walt_Disney_Grave.JPG\n",
      "El valor de src es: //upload.wikimedia.org/wikipedia/commons/thumb/1/1b/Nuvola_apps_kaboodle.svg/16px-Nuvola_apps_kaboodle.svg.png\n",
      "El valor de src es: //upload.wikimedia.org/wikipedia/commons/thumb/1/13/DisneySchiphol1951.jpg/220px-DisneySchiphol1951.jpg\n",
      "El valor de src es: //upload.wikimedia.org/wikipedia/commons/thumb/6/6c/Disney1968.jpg/170px-Disney1968.jpg\n",
      "El valor de src es: //upload.wikimedia.org/wikipedia/commons/thumb/b/b0/Disney_Oscar_1953_%28cropped%29.jpg/170px-Disney_Oscar_1953_%28cropped%29.jpg\n",
      "El valor de src es: //upload.wikimedia.org/wikipedia/en/thumb/4/4a/Commons-logo.svg/30px-Commons-logo.svg.png\n",
      "El valor de src es: //upload.wikimedia.org/wikipedia/commons/thumb/4/4c/Wikisource-logo.svg/38px-Wikisource-logo.svg.png\n",
      "El valor de src es: //upload.wikimedia.org/wikipedia/commons/thumb/f/fa/Wikiquote-logo.svg/34px-Wikiquote-logo.svg.png\n",
      "El valor de src es: //upload.wikimedia.org/wikipedia/en/thumb/8/8a/OOjs_UI_icon_edit-ltr-progressive.svg/10px-OOjs_UI_icon_edit-ltr-progressive.svg.png\n",
      "El valor de src es: //upload.wikimedia.org/wikipedia/en/thumb/8/8a/OOjs_UI_icon_edit-ltr-progressive.svg/10px-OOjs_UI_icon_edit-ltr-progressive.svg.png\n",
      "El valor de src es: //upload.wikimedia.org/wikipedia/en/thumb/9/96/Symbol_category_class.svg/16px-Symbol_category_class.svg.png\n",
      "El valor de src es: //upload.wikimedia.org/wikipedia/commons/thumb/e/e3/Disneyland_Resort_logo.svg/135px-Disneyland_Resort_logo.svg.png\n",
      "El valor de src es: //upload.wikimedia.org/wikipedia/commons/thumb/d/da/Animation_disc.svg/20px-Animation_disc.svg.png\n",
      "El valor de src es: //upload.wikimedia.org/wikipedia/en/thumb/6/69/P_vip.svg/19px-P_vip.svg.png\n",
      "El valor de src es: //upload.wikimedia.org/wikipedia/commons/thumb/1/1a/Magic_Kingdom_castle.jpg/15px-Magic_Kingdom_castle.jpg\n",
      "El valor de src es: //upload.wikimedia.org/wikipedia/en/thumb/e/e7/Video-x-generic.svg/19px-Video-x-generic.svg.png\n",
      "El valor de src es: //upload.wikimedia.org/wikipedia/commons/thumb/a/a3/Flag_of_Los_Angeles_County%2C_California.svg/21px-Flag_of_Los_Angeles_County%2C_California.svg.png\n",
      "El valor de src es: //upload.wikimedia.org/wikipedia/commons/thumb/8/8c/Blank_television_set.svg/21px-Blank_television_set.svg.png\n",
      "El valor de src es: //upload.wikimedia.org/wikipedia/en/thumb/a/a4/Flag_of_the_United_States.svg/21px-Flag_of_the_United_States.svg.png\n",
      "El valor de src es: //upload.wikimedia.org/wikipedia/en/thumb/8/8a/OOjs_UI_icon_edit-ltr-progressive.svg/10px-OOjs_UI_icon_edit-ltr-progressive.svg.png\n",
      "El valor de src es: https://login.wikimedia.org/wiki/Special:CentralAutoLogin/start?type=1x1\n",
      "El valor de src es: /static/images/footer/wikimedia-button.png\n",
      "El valor de src es: /static/images/footer/poweredby_mediawiki_88x31.png\n"
     ]
    }
   ],
   "source": [
    "\n",
    "img_elementos = sop.find_all('img')\n",
    "\n",
    "for img_elemento in img_elementos:\n",
    "    resultado = img_elemento.attrs\n",
    "    if 'src' in resultado:\n",
    "        src_value = resultado['src']\n",
    "        print(f'El valor de src es: {src_value}')\n",
    "    else:\n",
    "        print('No se encontró el atributo src en este elemento img')\n"
   ]
  },
  {
   "cell_type": "code",
   "execution_count": 755,
   "metadata": {},
   "outputs": [
    {
     "data": {
      "text/plain": [
       "['//upload.wikimedia.org/wikipedia/commons/thumb/d/df/Walt_Disney_1946.JPG/220px-Walt_Disney_1946.JPG',\n",
       " '//upload.wikimedia.org/wikipedia/commons/thumb/8/87/Walt_Disney_1942_signature.svg/150px-Walt_Disney_1942_signature.svg.png',\n",
       " '//upload.wikimedia.org/wikipedia/commons/thumb/1/1b/Nuvola_apps_kaboodle.svg/16px-Nuvola_apps_kaboodle.svg.png',\n",
       " '//upload.wikimedia.org/wikipedia/en/thumb/9/96/Symbol_category_class.svg/16px-Symbol_category_class.svg.png',\n",
       " '//upload.wikimedia.org/wikipedia/commons/thumb/e/e3/Disneyland_Resort_logo.svg/135px-Disneyland_Resort_logo.svg.png',\n",
       " '//upload.wikimedia.org/wikipedia/en/thumb/8/8a/OOjs_UI_icon_edit-ltr-progressive.svg/10px-OOjs_UI_icon_edit-ltr-progressive.svg.png']"
      ]
     },
     "execution_count": 755,
     "metadata": {},
     "output_type": "execute_result"
    }
   ],
   "source": [
    "#your code\n",
    "html = req.get(url).content\n",
    "sop = bs(html, 'html.parser')\n",
    "sop.find_all('tbody')[0]('img')[0]['src'] # dentro de (tbody) y a su vez dentro de (img) y dentro de (src).\n",
    "\n",
    "imagenes = []\n",
    "\n",
    "for tbody in sop.find_all('tbody'): # para cada tbody dentro de tbody\n",
    "    for img_tag in tbody.find_all('img'): # por cada img dentro de tbody inm\n",
    "        src_value = img_tag['src'] # me encuentras cada uno de los src\n",
    "        imagenes.append(src_value) # me lo añades a la lista\n",
    "imagenes"
   ]
  },
  {
   "cell_type": "markdown",
   "metadata": {},
   "source": [
    "#### Retrieve an arbitary Wikipedia page of \"Python\" and create a list of links on that page"
   ]
  },
  {
   "cell_type": "code",
   "execution_count": 800,
   "metadata": {},
   "outputs": [],
   "source": [
    "# This is the url you will scrape in this exercise\n",
    "url ='https://en.wikipedia.org/wiki/Python' "
   ]
  },
  {
   "cell_type": "code",
   "execution_count": 809,
   "metadata": {},
   "outputs": [
    {
     "data": {
      "text/plain": [
       "{'href': '/wiki/Main_Page',\n",
       " 'title': 'Visit the main page [z]',\n",
       " 'accesskey': ['z']}"
      ]
     },
     "execution_count": 809,
     "metadata": {},
     "output_type": "execute_result"
    }
   ],
   "source": [
    "html = req.get(url).content\n",
    "sop = bs( html, 'html.parser')\n",
    "sop.find_all('li')[0].find('a').attrs"
   ]
  },
  {
   "cell_type": "code",
   "execution_count": 303,
   "metadata": {},
   "outputs": [
    {
     "data": {
      "text/plain": [
       "['/wiki/Main_Page',\n",
       " '/wiki/Wikipedia:Contents',\n",
       " '/wiki/Portal:Current_events',\n",
       " '/wiki/Special:Random',\n",
       " '/wiki/Wikipedia:About']"
      ]
     },
     "execution_count": 303,
     "metadata": {},
     "output_type": "execute_result"
    }
   ],
   "source": [
    "#your code\n",
    "html = req.get(url).content\n",
    "sop = bs( html, 'html.parser')\n",
    "sop.find_all('li')[0].find('a').attrs['href']\n",
    "\n",
    "python = []\n",
    "\n",
    "for e in sop.find_all('li'):\n",
    "    try:\n",
    "        link = e.find('a')\n",
    "        if 'href' in link.attrs:\n",
    "            python.append(link['href'])\n",
    "    except:\n",
    "        pass\n",
    "python[:5]"
   ]
  },
  {
   "cell_type": "markdown",
   "metadata": {},
   "source": [
    "#### Number of Titles that have changed in the United States Code since its last release point "
   ]
  },
  {
   "cell_type": "code",
   "execution_count": 392,
   "metadata": {},
   "outputs": [],
   "source": [
    "# This is the url you will scrape in this exercise\n",
    "url = 'http://uscode.house.gov/download/download.shtml'"
   ]
  },
  {
   "cell_type": "code",
   "execution_count": 393,
   "metadata": {},
   "outputs": [
    {
     "data": {
      "text/plain": [
       "'Title 2 - The Congress 118-19 [XML] [XHTML] [PCC] [PDF]'"
      ]
     },
     "execution_count": 393,
     "metadata": {},
     "output_type": "execute_result"
    }
   ],
   "source": [
    "#your code\n",
    "html = req.get(url).content\n",
    "sop = bs( html, 'html.parser')\n",
    "resultado=','.join(sop.find_all('div', class_= 'uscitem')[2].text.split())\n",
    "resultado.replace(',',' ')"
   ]
  },
  {
   "cell_type": "code",
   "execution_count": 394,
   "metadata": {},
   "outputs": [
    {
     "data": {
      "text/plain": [
       "['All titles in the format selected compressed into a zip archive. [XML] [XHTML] [PCC] [PDF]',\n",
       " 'Title 1 - General Provisions ٭ 118-19 [XML] [XHTML] [PCC] [PDF]',\n",
       " 'Title 2 - The Congress 118-19 [XML] [XHTML] [PCC] [PDF]',\n",
       " 'Title 3 - The President ٭ 118-19 [XML] [XHTML] [PCC] [PDF]',\n",
       " 'Title 4 - Flag and Seal, Seat of Government, and the States ٭ 118-19 [XML] [XHTML] [PCC] [PDF]',\n",
       " 'Title 5 - Government Organization and Employees ٭ 118-19 [XML] [XHTML] [PCC] [PDF]',\n",
       " 'Appendix 118-19 [XML] [XHTML] [PCC] [PDF]',\n",
       " 'Title 6 - Domestic Security 118-19 [XML] [XHTML] [PCC] [PDF]',\n",
       " 'Title 7 - Agriculture 118-19 [XML] [XHTML] [PCC] [PDF]',\n",
       " 'Title 8 - Aliens and Nationality 118-19 [XML] [XHTML] [PCC] [PDF]',\n",
       " 'Title 9 - Arbitration ٭ 118-19 [XML] [XHTML] [PCC] [PDF]',\n",
       " 'Title 10 - Armed Forces ٭ 118-19 [XML] [XHTML] [PCC] [PDF]',\n",
       " 'Title 11 - Bankruptcy ٭ 118-19 [XML] [XHTML] [PCC] [PDF]',\n",
       " 'Appendix 118-19 [XML] [XHTML] [PCC] [PDF]',\n",
       " 'Title 12 - Banks and Banking 118-19 [XML] [XHTML] [PCC] [PDF]',\n",
       " 'Title 13 - Census ٭ 118-19 [XML] [XHTML] [PCC] [PDF]',\n",
       " 'Title 14 - Coast Guard ٭ 118-19 [XML] [XHTML] [PCC] [PDF]',\n",
       " 'Title 15 - Commerce and Trade 118-19 [XML] [XHTML] [PCC] [PDF]',\n",
       " 'Title 16 - Conservation 118-19 [XML] [XHTML] [PCC] [PDF]',\n",
       " 'Title 17 - Copyrights ٭ 118-19 [XML] [XHTML] [PCC] [PDF]',\n",
       " 'Title 18 - Crimes and Criminal Procedure ٭ 118-19 [XML] [XHTML] [PCC] [PDF]',\n",
       " 'Appendix 118-19 [XML] [XHTML] [PCC] [PDF]',\n",
       " 'Title 19 - Customs Duties 118-19 [XML] [XHTML] [PCC] [PDF]',\n",
       " 'Title 20 - Education 118-19 [XML] [XHTML] [PCC] [PDF]',\n",
       " 'Title 21 - Food and Drugs 118-19 [XML] [XHTML] [PCC] [PDF]',\n",
       " 'Title 22 - Foreign Relations and Intercourse 118-19 [XML] [XHTML] [PCC] [PDF]',\n",
       " 'Title 23 - Highways ٭ 118-19 [XML] [XHTML] [PCC] [PDF]',\n",
       " 'Title 24 - Hospitals and Asylums 118-19 [XML] [XHTML] [PCC] [PDF]',\n",
       " 'Title 25 - Indians 118-19 [XML] [XHTML] [PCC] [PDF]',\n",
       " 'Title 26 - Internal Revenue Code 118-19 [XML] [XHTML] [PCC] [PDF]',\n",
       " 'Title 27 - Intoxicating Liquors 118-19 [XML] [XHTML] [PCC] [PDF]',\n",
       " 'Title 28 - Judiciary and Judicial Procedure ٭ 118-19 [XML] [XHTML] [PCC] [PDF]',\n",
       " 'Appendix 118-19 [XML] [XHTML] [PCC] [PDF]',\n",
       " 'Title 29 - Labor 118-19 [XML] [XHTML] [PCC] [PDF]',\n",
       " 'Title 30 - Mineral Lands and Mining 118-19 [XML] [XHTML] [PCC] [PDF]',\n",
       " 'Title 31 - Money and Finance ٭ 118-19 [XML] [XHTML] [PCC] [PDF]',\n",
       " 'Title 32 - National Guard ٭ 118-19 [XML] [XHTML] [PCC] [PDF]',\n",
       " 'Title 33 - Navigation and Navigable Waters 118-19 [XML] [XHTML] [PCC] [PDF]',\n",
       " 'Title 34 - Crime Control and Law Enforcement 118-19 [XML] [XHTML] [PCC] [PDF]',\n",
       " 'Title 35 - Patents ٭ 118-19 [XML] [XHTML] [PCC] [PDF]',\n",
       " 'Title 36 - Patriotic and National Observances, Ceremonies, and Organizations ٭ 118-19 [XML] [XHTML] [PCC] [PDF]',\n",
       " 'Title 37 - Pay and Allowances of the Uniformed Services ٭ 118-19 [XML] [XHTML] [PCC] [PDF]',\n",
       " \"Title 38 - Veterans' Benefits ٭ 118-19 [XML] [XHTML] [PCC] [PDF]\",\n",
       " 'Title 39 - Postal Service ٭ 118-19 [XML] [XHTML] [PCC] [PDF]',\n",
       " 'Title 40 - Public Buildings, Property, and Works ٭ 118-19 [XML] [XHTML] [PCC] [PDF]',\n",
       " 'Title 41 - Public Contracts ٭ 118-19 [XML] [XHTML] [PCC] [PDF]',\n",
       " 'Title 42 - The Public Health and Welfare 118-19 [XML] [XHTML] [PCC] [PDF]',\n",
       " 'Title 43 - Public Lands 118-19 [XML] [XHTML] [PCC] [PDF]',\n",
       " 'Title 44 - Public Printing and Documents ٭ 118-19 [XML] [XHTML] [PCC] [PDF]',\n",
       " 'Title 45 - Railroads 118-19 [XML] [XHTML] [PCC] [PDF]',\n",
       " 'Title 46 - Shipping ٭ 118-19 [XML] [XHTML] [PCC] [PDF]',\n",
       " 'Title 47 - Telecommunications 118-19 [XML] [XHTML] [PCC] [PDF]',\n",
       " 'Title 48 - Territories and Insular Possessions 118-19 [XML] [XHTML] [PCC] [PDF]',\n",
       " 'Title 49 - Transportation ٭ 118-19 [XML] [XHTML] [PCC] [PDF]',\n",
       " 'Title 50 - War and National Defense 118-19 [XML] [XHTML] [PCC] [PDF]',\n",
       " 'Appendix 118-19 [XML] [XHTML] [PCC] [PDF]',\n",
       " 'Title 51 - National and Commercial Space Programs ٭ 118-19 [XML] [XHTML] [PCC] [PDF]',\n",
       " 'Title 52 - Voting and Elections 118-19 [XML] [XHTML] [PCC] [PDF]',\n",
       " 'Title 53 [Reserved] 118-19 [XML] [XHTML] [PCC] [PDF]',\n",
       " 'Title 54 - National Park Service and Related Programs ٭ 118-19 [XML] [XHTML] [PCC] [PDF]']"
      ]
     },
     "execution_count": 394,
     "metadata": {},
     "output_type": "execute_result"
    }
   ],
   "source": [
    "resultado= []\n",
    "for elemento in sop.find_all('div', class_='uscitem'):\n",
    "    resultado.append(' '.join(elemento.text.split()))\n",
    "resultado"
   ]
  },
  {
   "cell_type": "markdown",
   "metadata": {},
   "source": [
    "####  20 latest earthquakes info (date, time, latitude, longitude and region name) by the EMSC as a pandas dataframe"
   ]
  },
  {
   "cell_type": "code",
   "execution_count": 449,
   "metadata": {},
   "outputs": [],
   "source": [
    "# This is the url you will scrape in this exercise\n",
    "url = 'https://www.emsc-csem.org/Earthquake/'"
   ]
  },
  {
   "cell_type": "code",
   "execution_count": 468,
   "metadata": {},
   "outputs": [
    {
     "data": {
      "text/plain": [
       "[<div class=\"htab\"><table class=\"eqs table-scroll\">\n",
       " <thead><tr><th class=\"thico\"><th class=\"citiz\" colspan=\"2\"><div>Citizen<br/>response</div><div><div class=\"dm comm\"></div><div class=\"dm pic\"></div></div></th>\n",
       " </th><th class=\"tbdat\">Date &amp; Time<div>UTC</div></th><th class=\"tblat\">Lat.<div>degrees</div></th><th class=\"tblon\">Lon.<div>degrees</div></th><th class=\"tbdep\">Depth<div>km</div></th><th class=\"tbmag\">Mag.<span>[+]</span></th><th class=\"tbreg\">Region</th></tr></thead>\n",
       " <tbody></tbody>\n",
       " </table>\n",
       " </div>]"
      ]
     },
     "execution_count": 468,
     "metadata": {},
     "output_type": "execute_result"
    }
   ],
   "source": [
    "#your code\n",
    "html = req.get(url).content\n",
    "sop = bs( html, 'html.parser')\n",
    "sop.find_all('div', class_ = 'htab')"
   ]
  },
  {
   "cell_type": "code",
   "execution_count": 482,
   "metadata": {},
   "outputs": [],
   "source": [
    "#your code\n",
    "html = req.get(url).content\n",
    "sop = bs( html, 'html.parser')\n",
    "#sop.find_all('body')"
   ]
  },
  {
   "cell_type": "markdown",
   "metadata": {},
   "source": [
    "#### List all language names and number of related articles in the order they appear in wikipedia.org"
   ]
  },
  {
   "cell_type": "code",
   "execution_count": 483,
   "metadata": {},
   "outputs": [],
   "source": [
    "# This is the url you will scrape in this exercise\n",
    "url = 'https://www.wikipedia.org/'"
   ]
  },
  {
   "cell_type": "code",
   "execution_count": 549,
   "metadata": {},
   "outputs": [
    {
     "data": {
      "text/plain": [
       "'English,6,715,000+,articles,日本語,1,387,000+,記事,Español,1,892,000+,artículos,Русский,1,938,000+,статей,Deutsch,2,836,000+,Artikel,Français,2,553,000+,articles,Italiano,1,826,000+,voci,中文,1,377,000+,条目,/,條目,Português,1,109,000+,artigos,العربية,1,217,000+,مقالة'"
      ]
     },
     "execution_count": 549,
     "metadata": {},
     "output_type": "execute_result"
    }
   ],
   "source": [
    "#your code\n",
    "html = req.get(url).content\n",
    "sop = bs( html, 'html.parser')\n",
    "resultado = sop.find_all('body')[0].find_all('div')[1].text.split()\n",
    "resultado\n",
    "resultado=','.join(resultado)\n",
    "resultado\n"
   ]
  },
  {
   "cell_type": "code",
   "execution_count": 553,
   "metadata": {},
   "outputs": [
    {
     "name": "stdout",
     "output_type": "stream",
     "text": [
      "\n",
      "\n",
      "\n",
      "\n",
      "English\n",
      "6 715 000+ articles\n",
      "\n",
      "\n",
      "\n",
      "\n",
      "\n",
      "日本語\n",
      "1 387 000+ 記事\n",
      "\n",
      "\n",
      "\n",
      "\n",
      "\n",
      "Español\n",
      "1 892 000+ artículos\n",
      "\n",
      "\n",
      "\n",
      "\n",
      "\n",
      "Русский\n",
      "1 938 000+ статей\n",
      "\n",
      "\n",
      "\n",
      "\n",
      "\n",
      "Deutsch\n",
      "2 836 000+ Artikel\n",
      "\n",
      "\n",
      "\n",
      "\n",
      "\n",
      "Français\n",
      "2 553 000+ articles\n",
      "\n",
      "\n",
      "\n",
      "\n",
      "\n",
      "Italiano\n",
      "1 826 000+ voci\n",
      "\n",
      "\n",
      "\n",
      "\n",
      "\n",
      "中文\n",
      "1 377 000+ 条目 / 條目\n",
      "\n",
      "\n",
      "\n",
      "\n",
      "\n",
      "Português\n",
      "1 109 000+ artigos\n",
      "\n",
      "\n",
      "\n",
      "\n",
      "\n",
      "العربية\n",
      "1 217 000+ مقالة\n",
      "\n",
      "\n",
      "\n"
     ]
    }
   ],
   "source": [
    "resultado = soup.find_all('body')[0].find_all('div')[1].text.split(',')\n",
    "idiomas = [data[i] for i in range(0, len(resultado), 2)]\n",
    "for idioma in idiomas:\n",
    "    \n",
    "    print(idioma)\n"
   ]
  },
  {
   "cell_type": "markdown",
   "metadata": {},
   "source": [
    "#### A list with the different kind of datasets available in data.gov.uk "
   ]
  },
  {
   "cell_type": "code",
   "execution_count": 554,
   "metadata": {},
   "outputs": [],
   "source": [
    "# This is the url you will scrape in this exercise\n",
    "url = 'https://data.gov.uk/'"
   ]
  },
  {
   "cell_type": "code",
   "execution_count": 566,
   "metadata": {},
   "outputs": [
    {
     "data": {
      "text/plain": [
       "'Crime and justice'"
      ]
     },
     "execution_count": 566,
     "metadata": {},
     "output_type": "execute_result"
    }
   ],
   "source": [
    "#your code \n",
    "html = req.get(url).content\n",
    "sop = bs( html, 'html.parser')\n",
    "sop.find_all('h3')[1].text"
   ]
  },
  {
   "cell_type": "code",
   "execution_count": 570,
   "metadata": {},
   "outputs": [
    {
     "data": {
      "text/plain": [
       "['Business and economy',\n",
       " 'Crime and justice',\n",
       " 'Defence',\n",
       " 'Education',\n",
       " 'Environment',\n",
       " 'Government',\n",
       " 'Government spending',\n",
       " 'Health',\n",
       " 'Mapping',\n",
       " 'Society',\n",
       " 'Towns and cities',\n",
       " 'Transport',\n",
       " 'Digital service performance',\n",
       " 'Government reference data']"
      ]
     },
     "execution_count": 570,
     "metadata": {},
     "output_type": "execute_result"
    }
   ],
   "source": [
    "lista = []\n",
    "for i in sop.find_all('h3'):\n",
    "    lista.append(i.text)\n",
    "lista"
   ]
  },
  {
   "cell_type": "markdown",
   "metadata": {},
   "source": [
    "#### Top 10 languages by number of native speakers stored in a Pandas Dataframe"
   ]
  },
  {
   "cell_type": "code",
   "execution_count": 573,
   "metadata": {},
   "outputs": [],
   "source": [
    "# This is the url you will scrape in this exercise\n",
    "url = 'https://en.wikipedia.org/wiki/List_of_languages_by_number_of_native_speakers'"
   ]
  },
  {
   "cell_type": "code",
   "execution_count": 604,
   "metadata": {},
   "outputs": [],
   "source": [
    "#your code\n",
    "html = req.get(url).content\n",
    "sop = bs( html, 'html.parser')\n",
    "resultado = sop.find_all('table')[0]\n",
    "columnas = resultado.find_all('tr')[0].text.split()"
   ]
  },
  {
   "cell_type": "code",
   "execution_count": 660,
   "metadata": {},
   "outputs": [
    {
     "data": {
      "text/plain": [
       "['', 'Spanish', '', '485', '', 'Indo-European', '', 'Romance', '']"
      ]
     },
     "execution_count": 660,
     "metadata": {},
     "output_type": "execute_result"
    }
   ],
   "source": [
    "html = req.get(url).content\n",
    "sop = bs( html, 'html.parser')\n",
    "resultado = sop.find_all('table')[0]\n",
    "resultado=resultado.find_all('tr')[2].text.split('\\n')\n",
    "resultado"
   ]
  },
  {
   "cell_type": "code",
   "execution_count": 665,
   "metadata": {},
   "outputs": [
    {
     "data": {
      "text/plain": [
       "[['Language', 'Native speakers(millions)', 'Language family', 'Branch'],\n",
       " ['Mandarin Chinese(incl. Standard Chinese, but excl. other varieties)',\n",
       "  '939',\n",
       "  'Sino-Tibetan',\n",
       "  'Sinitic'],\n",
       " ['Spanish', '485', 'Indo-European', 'Romance'],\n",
       " ['English', '380', 'Indo-European', 'Germanic'],\n",
       " ['Hindi(excl. Urdu, and other languages)',\n",
       "  '345',\n",
       "  'Indo-European',\n",
       "  'Indo-Aryan'],\n",
       " ['Portuguese', '236', 'Indo-European', 'Romance'],\n",
       " ['Bengali', '234', 'Indo-European', 'Indo-Aryan'],\n",
       " ['Russian', '147', 'Indo-European', 'Balto-Slavic'],\n",
       " ['Japanese', '123', 'Japonic', 'Japanese'],\n",
       " ['Yue Chinese(incl. Cantonese)', '86.1', 'Sino-Tibetan', 'Sinitic'],\n",
       " ['Vietnamese', '85.0', 'Austroasiatic', 'Vietic']]"
      ]
     },
     "execution_count": 665,
     "metadata": {},
     "output_type": "execute_result"
    }
   ],
   "source": [
    "datos = []\n",
    "for fila in filas[:11]:  # Iterar solo las primeras 11 filas\n",
    "    # Obtener el texto de la fila y dividirlo por saltos de línea\n",
    "    datos.append( fila.text.split('\\n'))\n",
    "datos_limpios = [[c for c in fila if c.strip()] for fila in datos]\n",
    "datos_limpios\n",
    "\n",
    "# no hay manera de describir como me lie con este bucle...."
   ]
  },
  {
   "cell_type": "code",
   "execution_count": 674,
   "metadata": {},
   "outputs": [
    {
     "data": {
      "text/html": [
       "<div>\n",
       "<style scoped>\n",
       "    .dataframe tbody tr th:only-of-type {\n",
       "        vertical-align: middle;\n",
       "    }\n",
       "\n",
       "    .dataframe tbody tr th {\n",
       "        vertical-align: top;\n",
       "    }\n",
       "\n",
       "    .dataframe thead th {\n",
       "        text-align: right;\n",
       "    }\n",
       "</style>\n",
       "<table border=\"1\" class=\"dataframe\">\n",
       "  <thead>\n",
       "    <tr style=\"text-align: right;\">\n",
       "      <th></th>\n",
       "      <th>Language</th>\n",
       "      <th>Native speakers(millions)</th>\n",
       "      <th>Language family</th>\n",
       "      <th>Branch</th>\n",
       "    </tr>\n",
       "  </thead>\n",
       "  <tbody>\n",
       "    <tr>\n",
       "      <th>0</th>\n",
       "      <td>Mandarin Chinese(incl. Standard Chinese, but e...</td>\n",
       "      <td>939</td>\n",
       "      <td>Sino-Tibetan</td>\n",
       "      <td>Sinitic</td>\n",
       "    </tr>\n",
       "    <tr>\n",
       "      <th>1</th>\n",
       "      <td>Spanish</td>\n",
       "      <td>485</td>\n",
       "      <td>Indo-European</td>\n",
       "      <td>Romance</td>\n",
       "    </tr>\n",
       "    <tr>\n",
       "      <th>2</th>\n",
       "      <td>English</td>\n",
       "      <td>380</td>\n",
       "      <td>Indo-European</td>\n",
       "      <td>Germanic</td>\n",
       "    </tr>\n",
       "    <tr>\n",
       "      <th>3</th>\n",
       "      <td>Hindi(excl. Urdu, and other languages)</td>\n",
       "      <td>345</td>\n",
       "      <td>Indo-European</td>\n",
       "      <td>Indo-Aryan</td>\n",
       "    </tr>\n",
       "    <tr>\n",
       "      <th>4</th>\n",
       "      <td>Portuguese</td>\n",
       "      <td>236</td>\n",
       "      <td>Indo-European</td>\n",
       "      <td>Romance</td>\n",
       "    </tr>\n",
       "    <tr>\n",
       "      <th>5</th>\n",
       "      <td>Bengali</td>\n",
       "      <td>234</td>\n",
       "      <td>Indo-European</td>\n",
       "      <td>Indo-Aryan</td>\n",
       "    </tr>\n",
       "    <tr>\n",
       "      <th>6</th>\n",
       "      <td>Russian</td>\n",
       "      <td>147</td>\n",
       "      <td>Indo-European</td>\n",
       "      <td>Balto-Slavic</td>\n",
       "    </tr>\n",
       "    <tr>\n",
       "      <th>7</th>\n",
       "      <td>Japanese</td>\n",
       "      <td>123</td>\n",
       "      <td>Japonic</td>\n",
       "      <td>Japanese</td>\n",
       "    </tr>\n",
       "    <tr>\n",
       "      <th>8</th>\n",
       "      <td>Yue Chinese(incl. Cantonese)</td>\n",
       "      <td>86.1</td>\n",
       "      <td>Sino-Tibetan</td>\n",
       "      <td>Sinitic</td>\n",
       "    </tr>\n",
       "    <tr>\n",
       "      <th>9</th>\n",
       "      <td>Vietnamese</td>\n",
       "      <td>85.0</td>\n",
       "      <td>Austroasiatic</td>\n",
       "      <td>Vietic</td>\n",
       "    </tr>\n",
       "  </tbody>\n",
       "</table>\n",
       "</div>"
      ],
      "text/plain": [
       "0                                           Language  \\\n",
       "0  Mandarin Chinese(incl. Standard Chinese, but e...   \n",
       "1                                            Spanish   \n",
       "2                                            English   \n",
       "3             Hindi(excl. Urdu, and other languages)   \n",
       "4                                         Portuguese   \n",
       "5                                            Bengali   \n",
       "6                                            Russian   \n",
       "7                                           Japanese   \n",
       "8                       Yue Chinese(incl. Cantonese)   \n",
       "9                                         Vietnamese   \n",
       "\n",
       "0 Native speakers(millions) Language family        Branch  \n",
       "0                       939    Sino-Tibetan       Sinitic  \n",
       "1                       485   Indo-European       Romance  \n",
       "2                       380   Indo-European      Germanic  \n",
       "3                       345   Indo-European    Indo-Aryan  \n",
       "4                       236   Indo-European       Romance  \n",
       "5                       234   Indo-European    Indo-Aryan  \n",
       "6                       147   Indo-European  Balto-Slavic  \n",
       "7                       123         Japonic      Japanese  \n",
       "8                      86.1    Sino-Tibetan       Sinitic  \n",
       "9                      85.0   Austroasiatic        Vietic  "
      ]
     },
     "execution_count": 674,
     "metadata": {},
     "output_type": "execute_result"
    }
   ],
   "source": [
    "df = pd.DataFrame(datos_limpios)\n",
    "df.columns = df.iloc[0]\n",
    "df = df[1:].reset_index(drop=True)\n",
    "df"
   ]
  },
  {
   "cell_type": "markdown",
   "metadata": {},
   "source": [
    "### BONUS QUESTIONS"
   ]
  },
  {
   "cell_type": "markdown",
   "metadata": {},
   "source": [
    "#### Scrape a certain number of tweets of a given Twitter account."
   ]
  },
  {
   "cell_type": "code",
   "execution_count": null,
   "metadata": {},
   "outputs": [],
   "source": [
    "# This is the url you will scrape in this exercise \n",
    "# You will need to add the account credentials to this url\n",
    "url = 'https://twitter.com/'"
   ]
  },
  {
   "cell_type": "code",
   "execution_count": null,
   "metadata": {},
   "outputs": [],
   "source": [
    "# your code"
   ]
  },
  {
   "cell_type": "markdown",
   "metadata": {},
   "source": [
    "#### IMDB's Top 250 data (movie name, Initial release, director name and stars) as a pandas dataframe"
   ]
  },
  {
   "cell_type": "code",
   "execution_count": 696,
   "metadata": {},
   "outputs": [],
   "source": [
    "# This is the url you will scrape in this exercise \n",
    "url = 'https://www.imdb.com/chart/top'"
   ]
  },
  {
   "cell_type": "code",
   "execution_count": 704,
   "metadata": {},
   "outputs": [
    {
     "data": {
      "text/plain": [
       "[]"
      ]
     },
     "execution_count": 704,
     "metadata": {},
     "output_type": "execute_result"
    }
   ],
   "source": [
    "# your code\n",
    "html = req.get(url).content\n",
    "sop = bs( html, 'html.parser')\n",
    "sop.find_all('div')"
   ]
  },
  {
   "cell_type": "markdown",
   "metadata": {},
   "source": [
    "#### Movie name, year and a brief summary of the top 10 random movies (IMDB) as a pandas dataframe."
   ]
  },
  {
   "cell_type": "code",
   "execution_count": null,
   "metadata": {},
   "outputs": [],
   "source": [
    "#This is the url you will scrape in this exercise\n",
    "url = 'http://www.imdb.com/chart/top'"
   ]
  },
  {
   "cell_type": "code",
   "execution_count": null,
   "metadata": {},
   "outputs": [],
   "source": []
  },
  {
   "cell_type": "markdown",
   "metadata": {},
   "source": [
    "#### Find the live weather report (temperature, wind speed, description and weather) of a given city."
   ]
  },
  {
   "cell_type": "code",
   "execution_count": null,
   "metadata": {},
   "outputs": [],
   "source": [
    "#https://openweathermap.org/current\n",
    "city = city=input('Enter the city:')\n",
    "url = 'http://api.openweathermap.org/data/2.5/weather?'+'q='+city+'&APPID=b35975e18dc93725acb092f7272cc6b8&units=metric'"
   ]
  },
  {
   "cell_type": "code",
   "execution_count": null,
   "metadata": {},
   "outputs": [],
   "source": [
    "# your code"
   ]
  },
  {
   "cell_type": "markdown",
   "metadata": {},
   "source": [
    "#### Book name,price and stock availability as a pandas dataframe."
   ]
  },
  {
   "cell_type": "code",
   "execution_count": 794,
   "metadata": {},
   "outputs": [],
   "source": [
    "# This is the url you will scrape in this exercise. \n",
    "# It is a fictional bookstore created to be scraped. \n",
    "url = 'http://books.toscrape.com/'"
   ]
  },
  {
   "cell_type": "code",
   "execution_count": 797,
   "metadata": {},
   "outputs": [
    {
     "data": {
      "text/plain": [
       "'A Light in the ...'"
      ]
     },
     "execution_count": 797,
     "metadata": {},
     "output_type": "execute_result"
    }
   ],
   "source": [
    "#your code\n",
    "html = req.get(url).content\n",
    "sop = bs( html, 'html.parser')\n",
    "sop.find_all('h3')[0].text"
   ]
  },
  {
   "cell_type": "code",
   "execution_count": 798,
   "metadata": {},
   "outputs": [
    {
     "data": {
      "text/plain": [
       "'Tipping the Velvet'"
      ]
     },
     "execution_count": 798,
     "metadata": {},
     "output_type": "execute_result"
    }
   ],
   "source": [
    "html = req.get(url).content\n",
    "sop = bs( html, 'html.parser')\n",
    "sop.find_all('h3')[1].text"
   ]
  },
  {
   "cell_type": "code",
   "execution_count": null,
   "metadata": {},
   "outputs": [],
   "source": []
  }
 ],
 "metadata": {
  "kernelspec": {
   "display_name": "Python 3 (ipykernel)",
   "language": "python",
   "name": "python3"
  },
  "language_info": {
   "codemirror_mode": {
    "name": "ipython",
    "version": 3
   },
   "file_extension": ".py",
   "mimetype": "text/x-python",
   "name": "python",
   "nbconvert_exporter": "python",
   "pygments_lexer": "ipython3",
   "version": "3.10.9"
  }
 },
 "nbformat": 4,
 "nbformat_minor": 2
}
